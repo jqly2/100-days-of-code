{
 "cells": [
  {
   "cell_type": "code",
   "execution_count": null,
   "metadata": {},
   "outputs": [],
   "source": [
    "import art\n",
    "\n",
    "def ciphering(direction: str, shift: int, text: str):\n",
    "    result = ''\n",
    "    if shift >= 26:\n",
    "        mod = shift % 26\n",
    "    else:\n",
    "        mod = shift\n",
    "    for letter in text:\n",
    "        if alphabet.count(letter) == 0:\n",
    "            result += letter\n",
    "            continue\n",
    "        elif direction == 'encode':\n",
    "            index = alphabet.index(letter) + mod\n",
    "            if index >= 0 and index <= 25:\n",
    "                letter = alphabet[index]\n",
    "            else:\n",
    "                letter = alphabet[index - 26]\n",
    "            result += letter\n",
    "        elif direction == 'decode':\n",
    "            index = alphabet.index(letter) - mod\n",
    "            letter = alphabet[index]\n",
    "            result += letter\n",
    "        else: \n",
    "            result += letter\n",
    "    return result        \n",
    "    \n",
    "alphabet = ['a', 'b', 'c', 'd', 'e', 'f', 'g', 'h', 'i', 'j', 'k', 'l', 'm', 'n', 'o', 'p', 'q', 'r', 's', 't', 'u', 'v', 'w', 'x', 'y', 'z']\n",
    "print(r\"{}\".format(art.logo))\n",
    "session = 'yes'\n",
    "while session == 'yes':\n",
    "    direction = input(\"Type 'encode' to encrypt, type 'decode' to decrypt:\\n\")\n",
    "    text = input(\"Type your message:\\n\").lower()\n",
    "    shift = int(input(\"Type the shift number:\\n\"))\n",
    "    result = ciphering(direction, shift, text)\n",
    "    print(f\"Here's the {direction}d results: {result}\")\n",
    "    session = input(f\"Type 'yes' if you want to go again. Otherwise type 'no'. \\n\")\n",
    "            \n",
    "\n",
    "    \n",
    "        "
   ]
  }
 ],
 "metadata": {
  "kernelspec": {
   "display_name": "Python 3",
   "language": "python",
   "name": "python3"
  },
  "language_info": {
   "name": "python",
   "version": "3.12.0"
  }
 },
 "nbformat": 4,
 "nbformat_minor": 2
}
