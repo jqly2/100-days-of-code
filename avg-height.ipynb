{
 "cells": [
  {
   "cell_type": "code",
   "execution_count": null,
   "metadata": {},
   "outputs": [],
   "source": [
    "# Input a Python list of student heights\n",
    "student_heights = input().split()\n",
    "for n in range(0, len(student_heights)):\n",
    "  student_heights[n] = int(student_heights[n])\n",
    "# 🚨 Don't change the code above 👆\n",
    "  \n",
    "# Write your code below this row 👇\n",
    "total = 0\n",
    "length = 0\n",
    "for student in student_heights:\n",
    "    total += student\n",
    "    length += 1\n",
    "\n",
    "average = round(total/length)\n",
    "print(\"total height = \" + str(total))\n",
    "print(\"number of students = \" + str(length))\n",
    "print(\"average height = \" + str(average))"
   ]
  }
 ],
 "metadata": {
  "language_info": {
   "name": "python"
  }
 },
 "nbformat": 4,
 "nbformat_minor": 2
}
