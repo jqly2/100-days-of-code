{
 "cells": [
  {
   "cell_type": "code",
   "execution_count": null,
   "metadata": {},
   "outputs": [],
   "source": [
    "# Which year do you want to check?\n",
    "year = int(input())\n",
    "# 🚨 Don't change the code above 👆\n",
    "\n",
    "# Write your code below this line 👇\n",
    "def divby4(num):\n",
    "    return (num/4).is_integer()\n",
    "\n",
    "def divby100(num):\n",
    "    return (num/100).is_integer()\n",
    "\n",
    "def divby400(num):\n",
    "    return (num/400).is_integer()\n",
    "\n",
    "if divby4(year) == False:\n",
    "    print(\"Not leap year\")\n",
    "elif divby4(year) == True and divby100(year) == True and divby400(year) == False:\n",
    "    print(\"Not leap year\")\n",
    "elif divby4(year) == True and divby100(year) == True and divby400(year) == True:\n",
    "    print(\"Leap year\")\n",
    "else:\n",
    "    print(\"Leap year\")\n",
    " "
   ]
  }
 ],
 "metadata": {
  "language_info": {
   "name": "python"
  }
 },
 "nbformat": 4,
 "nbformat_minor": 2
}
