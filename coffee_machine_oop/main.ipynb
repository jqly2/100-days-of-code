{
 "cells": [
  {
   "cell_type": "code",
   "execution_count": 3,
   "metadata": {},
   "outputs": [
    {
     "name": "stdout",
     "output_type": "stream",
     "text": [
      "Sorry we do not carry this item in our menu.\n",
      "Here is the current resources in the machine:\n",
      "Water: 300ml\n",
      "Milk: 200ml\n",
      "Coffee: 0g\n",
      "Money: $0.0\n",
      "Turning off the machine.\n"
     ]
    }
   ],
   "source": [
    "from coffee_maker import CoffeeMaker\n",
    "from money_handler import MoneyHandler\n",
    "\n",
    "coffee_maker_session = CoffeeMaker()\n",
    "money_handler_session = MoneyHandler()\n",
    "\n",
    "\n",
    "def barista():\n",
    "    order = input(\"What would like?\").lower()\n",
    "    if order == \"off\" or not order:\n",
    "        print(\"Turning off the machine.\")\n",
    "        return False\n",
    "    else:\n",
    "        drink = coffee_maker_session.find_item(order)\n",
    "        if order == \"report\":\n",
    "            coffee_maker_session.report()\n",
    "            money_handler_session.report()\n",
    "            barista()\n",
    "        elif not drink:\n",
    "            print(\"Sorry we do not carry this item in our menu.\")\n",
    "            barista()\n",
    "        elif drink:\n",
    "            price = coffee_maker_session.check_resource(order)\n",
    "            if price != 0:\n",
    "                if sort_money(price):\n",
    "                    coffee_maker_session.coffee_making(order)\n",
    "                    money_handler_session.cashier(price)\n",
    "                    barista()\n",
    "                else:\n",
    "                    print(\"Returning to get your order.\")\n",
    "                    barista()\n",
    "            else:\n",
    "                print(\"There was not enough in the machine to make your order.\")\n",
    "                barista()\n",
    "        else:\n",
    "            return False\n",
    "            \n",
    "\n",
    "def sort_money(price: float):\n",
    "    money_handler_session.processing()\n",
    "    if money_handler_session.price_check(price):\n",
    "        return True\n",
    "    else:\n",
    "        option = input('''Do you have enough to pay \n",
    "                       or want to order something else?\n",
    "                       Type \"payment\" or \"order\"''')\n",
    "        if option == 'payment':\n",
    "            sort_money(price)\n",
    "        elif option == 'order':\n",
    "            return False\n",
    "\n",
    "if barista():\n",
    "    barista()\n",
    "    \n",
    "\n",
    "        \n",
    "\n",
    "        \n"
   ]
  }
 ],
 "metadata": {
  "kernelspec": {
   "display_name": "Python 3",
   "language": "python",
   "name": "python3"
  },
  "language_info": {
   "codemirror_mode": {
    "name": "ipython",
    "version": 3
   },
   "file_extension": ".py",
   "mimetype": "text/x-python",
   "name": "python",
   "nbconvert_exporter": "python",
   "pygments_lexer": "ipython3",
   "version": "3.11.4"
  }
 },
 "nbformat": 4,
 "nbformat_minor": 2
}
