{
 "cells": [
  {
   "cell_type": "code",
   "execution_count": null,
   "metadata": {},
   "outputs": [],
   "source": [
    "def prime_checker(number):\n",
    "    # Base cases: 0, 1, and negative numbers are not prime\n",
    "    if n <= 1:\n",
    "        return False\n",
    "    elif n <= 3:\n",
    "        return True\n",
    "    elif n % 2 == 0 or n % 3 == 0:\n",
    "        # Exclude multiples of 2 and 3 (except for 2 and 3 themselves)\n",
    "        return False\n",
    "    \n",
    "    # Start checking potential divisors from 5\n",
    "    i = 5\n",
    "    \n",
    "    # Check for divisibility by potential prime factors in the form 6k ± 1\n",
    "    while i * i <= n:\n",
    "        if n % i == 0 or n % (i + 2) == 0:\n",
    "            # If n is divisible, it's not a prime number\n",
    "            return False\n",
    "        # Increment by 6 to skip multiples of 2 and 3\n",
    "        i += 6\n",
    "    \n",
    "    # If no divisors are found, n is a prime number\n",
    "    return True\n",
    "\n",
    "# Example usage\n",
    "n = int(input()) # Check this number\n",
    "if prime_checker(number=n) == True:\n",
    "    print(\"It's a prime number.\")\n",
    "else: \n",
    "    print(\"It's not a prime number.\")"
   ]
  }
 ],
 "metadata": {
  "language_info": {
   "name": "python"
  }
 },
 "nbformat": 4,
 "nbformat_minor": 2
}
