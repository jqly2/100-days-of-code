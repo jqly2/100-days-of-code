{
 "cells": [
  {
   "cell_type": "code",
   "execution_count": null,
   "metadata": {},
   "outputs": [],
   "source": [
    "print (\"Welcome to the tip calcular.\")\n",
    "total = input(\"What's was the total bill?\\n$\")\n",
    "percentage = input(\"What percentage tip would you like to give? 10,12 or 15?\\n\")\n",
    "split = input(\"How many people to split the bill?\\n\")\n",
    "tip = float(total) * (1 + int(percentage)/100)\n",
    "result = round(tip / int(split), 2)\n",
    "# The below allows it to print out up to .00 in the results. \n",
    "result = \"{:.2f}\".format(tip / int(split))\n",
    "print(f\"Each person should pay: ${result}\")"
   ]
  }
 ],
 "metadata": {
  "kernelspec": {
   "display_name": "Python 3",
   "language": "python",
   "name": "python3"
  },
  "language_info": {
   "name": "python",
   "version": "3.11.4"
  }
 },
 "nbformat": 4,
 "nbformat_minor": 2
}
