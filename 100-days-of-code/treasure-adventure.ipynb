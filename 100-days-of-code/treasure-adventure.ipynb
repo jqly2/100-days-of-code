{
 "cells": [
  {
   "cell_type": "code",
   "execution_count": null,
   "metadata": {},
   "outputs": [],
   "source": [
    "mystring = ''' *******************************************************************************\n",
    "          |                   |                  |                     |\n",
    " _________|________________.=\"\"_;=.______________|_____________________|_______\n",
    "|                   |  ,-\"_,=\"\"     `\"=.|                  |\n",
    "|___________________|__\"=._o`\"-._        `\"=.______________|___________________\n",
    "          |                `\"=._o`\"=._      _`\"=._                     |\n",
    " _________|_____________________:=._o \"=._.\"_.-=\"'\"=.__________________|_______\n",
    "|                   |    __.--\" , ; `\"=._o.\" ,-\"\"\"-._ \".   |\n",
    "|___________________|_._\"  ,. .` ` `` ,  `\"-._\"-._   \". '__|___________________\n",
    "          |           |o`\"=._` , \"` `; .\". ,  \"-._\"-._; ;              |\n",
    " _________|___________| ;`-.o`\"=._; .\" ` '`.\"\\` . \"-._ /_______________|_______\n",
    "|                   | |o;    `\"-.o`\"=._``  '` \" ,__.--o;   |\n",
    "|___________________|_| ;     (#) `-.o `\"=.`_.--\"_o.-; ;___|___________________\n",
    "____/______/______/___|o;._    \"      `\".o|o_.--\"    ;o;____/______/______/____\n",
    "/______/______/______/_\"=._o--._        ; | ;        ; ;/______/______/______/_\n",
    "____/______/______/______/__\"=._o--._   ;o|o;     _._;o;____/______/______/____\n",
    "/______/______/______/______/____\"=._o._; | ;_.--\"o.--\"_/______/______/______/_\n",
    "____/______/______/______/______/_____\"=.o|o_.--\"\"___/______/______/______/____\n",
    "/______/______/______/______/______/______/______/______/______/______/[TomekK]\n",
    "******************************************************************************* '''\n",
    "print(mystring)\n",
    "print(\"\\n\\nWelcome to Treasure Island.\\nYour mission is to find the treasure.\")\n",
    "fork = input(\"There is a fork in the road that splits left and right. Would you like to go 'left' or 'right'?\\nPlease type either options:\")\n",
    "if fork.lower() == \"left\":\n",
    "    swim = input(\"After traveling for hours on this dusty road, you finally come across a large open lake.\\n Seeing an island in the distance, you see a sign telling you it will take a day for the next boat to arrive. \\n Do you want to 'swim' to the island or 'wait' for the next boat? \\n Please type your action now.\")\n",
    "    if swim.lower() == \"wait\":\n",
    "        door = input(\"Unknown amount of time passes when you arrive at the island. \\nAfter exploring the entire island, you find a castle with three different gateways with different colors. One is 'red', the other is 'yellow' and last is 'blue'. Which one do you choose?\")\n",
    "        if door.lower() == \"red\":\n",
    "            print(\"You enter in castle that reveals a demonic interior as the gate slams shut behind you. A roaring inferno erupts as the castle and you are engulf in flames. Game Over.\")\n",
    "        elif door.lower() == \"blue\":\n",
    "            print(\"You enter a hauntedly eerie silence courtyard with no life in sight. Just as you believe you are alone, the gateway slams shut and a horde of beasts come charging out. \\n You are quickly devoured by the beasts despite any action you try to survive. Game Over.\")\n",
    "        elif door.lower() == \"yellow\":\n",
    "            print(\"You immediately blindly by a bright yellow flash and find yourself into the large room filled with piles of gold and the treasure you are seeking. You Win!\")\n",
    "        else:\n",
    "            print(\"You try to subvert the master of the castle. They appear before you and snap their fingers which cause you to disintergrate away. Game Over.\")\n",
    "    else:\n",
    "        print(\"You swim for hours towards the island with it getting no closer. \\nYour strength wanes as you slowly start to swim into the waters into the mighty jaws of a giant trout. Game Over.\")\n",
    "else:\n",
    "    print(\"You have chosen poorly as your actions here led to you to a bottemless trap hole where your screams echos into the abyss before your demise. Game Over.\")    \n",
    "\n"
   ]
  }
 ],
 "metadata": {
  "language_info": {
   "name": "python"
  }
 },
 "nbformat": 4,
 "nbformat_minor": 2
}
