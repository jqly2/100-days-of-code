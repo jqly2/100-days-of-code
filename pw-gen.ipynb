{
 "cells": [
  {
   "cell_type": "code",
   "execution_count": null,
   "metadata": {},
   "outputs": [],
   "source": [
    "#Password Generator Project\n",
    "import random\n",
    "letters = ['a', 'b', 'c', 'd', 'e', 'f', 'g', 'h', 'i', 'j', 'k', 'l', 'm', 'n', 'o', 'p', 'q', 'r', 's', 't', 'u', 'v', 'w', 'x', 'y', 'z', 'A', 'B', 'C', 'D', 'E', 'F', 'G', 'H', 'I', 'J', 'K', 'L', 'M', 'N', 'O', 'P', 'Q', 'R', 'S', 'T', 'U', 'V', 'W', 'X', 'Y', 'Z']\n",
    "numbers = ['0', '1', '2', '3', '4', '5', '6', '7', '8', '9']\n",
    "symbols = ['!', '#', '$', '%', '&', '(', ')', '*', '+']\n",
    "\n",
    "print(\"Welcome to the PyPassword Generator!\")\n",
    "nr_letters= int(input(\"How many letters would you like in your password?\\n\")) \n",
    "nr_symbols = int(input(f\"How many symbols would you like?\\n\"))\n",
    "nr_numbers = int(input(f\"How many numbers would you like?\\n\"))\n",
    "\n",
    "#Eazy Level - Order not randomised:\n",
    "#e.g. 4 letter, 2 symbol, 2 number = JduE&!91\n",
    "easyPW = \"\"\n",
    "for num in range(0, nr_letters+1):\n",
    "   easyPW += letters[random.randrange(0,len(letters))] \n",
    "\n",
    "for num in range(0, nr_symbols+1):\n",
    "   easyPW += symbols[random.randrange(0,len(symbols))]\n",
    "   \n",
    "for num in range(0, nr_numbers+1):\n",
    "   easyPW += numbers[random.randrange(0,len(numbers))]\n",
    "\n",
    "print(f\"Your new easy password is: {easyPW}\")\n",
    "#Hard Level - Order of characters randomised:\n",
    "#e.g. 4 letter, 2 symbol, 2 number = g^2jk8&P\n",
    "length = nr_letters + nr_symbols + nr_numbers\n",
    "hardPW = \"\"\n",
    "\n",
    "for num in range(0 , length+1):\n",
    "    letter = letters[random.randrange(0,len(letters))]\n",
    "    number = numbers[random.randrange(0,len(numbers))]\n",
    "    symbol = symbols[random.randrange(0,len(symbols))]\n",
    "    characters = [letter, number, symbol]\n",
    "    selected = random.randint(0,2)\n",
    "    hardPW += characters[selected]\n",
    "# There is a random.shuffle to shuffle an array instead that would be easier looping aboving. \n",
    "print(f\"Your new hard password is: {hardPW}\")        "
   ]
  }
 ],
 "metadata": {
  "language_info": {
   "name": "python"
  }
 },
 "nbformat": 4,
 "nbformat_minor": 2
}
