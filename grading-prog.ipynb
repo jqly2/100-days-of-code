{
 "cells": [
  {
   "cell_type": "code",
   "execution_count": null,
   "metadata": {},
   "outputs": [],
   "source": [
    "student_scores = {\n",
    "    \"Harry\": 81,\n",
    "    \"Ron\": 78,\n",
    "    \"Hermione\": 99, \n",
    "    \"Draco\": 74,\n",
    "    \"Neville\": 62,\n",
    "    }\n",
    "    # 🚨 Don't change the code above 👆\n",
    "    # TODO-1: Create an empty dictionary called student_grades.\n",
    "student_grades = {}\n",
    "\n",
    "    # TODO-2: Write your code below to add the grades to student_grades.👇\n",
    "    # Scores 91 - 100: Grade = \"Outstanding\"\n",
    "    # Scores 81 - 90: Grade = \"Exceeds Expectations\"\n",
    "    # Scores 71 - 80: Grade = \"Acceptable\"\n",
    "    # Scores 70 or lower: Grade = \"Fail\"\n",
    "\n",
    "def check_grade(score: int):\n",
    "    if score >= 91:\n",
    "        return \"Outstanding\"\n",
    "    elif score >= 81 and score <= 90:\n",
    "        return \"Exceeds Expectations\"\n",
    "    elif score >= 71 and score <= 80:\n",
    "        return \"Acceptable\"\n",
    "    else:\n",
    "        return \"Fail\"\n",
    "\n",
    "for student in student_scores:\n",
    "    student_grades[student] = check_grade(student_scores[student])\n",
    "\n",
    "    # 🚨 Don't change the code below 👇\n",
    "print(student_grades)"
   ]
  }
 ],
 "metadata": {
  "language_info": {
   "name": "python"
  }
 },
 "nbformat": 4,
 "nbformat_minor": 2
}
