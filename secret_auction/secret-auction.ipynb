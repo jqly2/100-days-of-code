{
 "cells": [
  {
   "cell_type": "code",
   "execution_count": null,
   "metadata": {},
   "outputs": [],
   "source": [
    "import art\n",
    "from IPython.display import clear_output\n",
    "\n",
    "print(r\"{}\".format(art.logo))\n",
    "print(\" \\n Welcome to the secret auction program.\\n\")\n",
    "game_state = True\n",
    "bidder = {}\n",
    "game_check = 'yes'\n",
    "def entry():\n",
    "    name = input(\"What is your name?:\")\n",
    "    bid = input(\"What's your bid?: $\")\n",
    "    if name == '' or bid == '' or not bid.isdigit():\n",
    "        print(\"No bidder or bid was submitted\")\n",
    "    else:\n",
    "        bidder[name] = int(bid)\n",
    "\n",
    "while not game_state == False:\n",
    "\n",
    "    if not game_check == 'yes' and not game_check == 'no':\n",
    "        clear_output()\n",
    "        print(f\"The auction has been disrupted. The auction will now end\")\n",
    "        if not bidder == {}:\n",
    "            winner = max(bidder, key = bidder.get)\n",
    "            print(f\"The winner is {winner} with a bid of ${bidder[winner]}\")\n",
    "        game_state = False\n",
    "        break\n",
    "\n",
    "    elif game_check == 'no':\n",
    "        winner = max(bidder, key = bidder.get)\n",
    "        game_state = False\n",
    "        clear_output(wait=True)\n",
    "        print(f\"The winner is {winner} with a bid of ${bidder[winner]}\")\n",
    "        break\n",
    "        \n",
    "    elif game_check == 'yes':\n",
    "        clear_output(wait=True)\n",
    "        entry()\n",
    "    game_check = input(\"Are there any other bidders? Type 'yes' or 'no'\")"
   ]
  }
 ],
 "metadata": {
  "language_info": {
   "name": "python"
  }
 },
 "nbformat": 4,
 "nbformat_minor": 2
}
